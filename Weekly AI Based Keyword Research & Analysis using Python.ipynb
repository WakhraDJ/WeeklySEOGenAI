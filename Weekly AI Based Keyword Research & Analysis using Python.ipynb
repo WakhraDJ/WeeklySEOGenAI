{
 "cells": [
  {
   "cell_type": "code",
   "execution_count": null,
   "id": "63aef91d",
   "metadata": {},
   "outputs": [],
   "source": [
    "# You need to install Python and the required packages before running this code.\n",
    "# Use the following commands to install the necessary packages:\n",
    "# pip install pandas\n",
    "# pip install numpy\n",
    "# pip install pandasai\n",
    "\n",
    "import pandas as pd\n",
    "import numpy as np\n",
    "from pandasai import PandasAI\n",
    "from pandasai.llm.openai import OpenAI"
   ]
  },
  {
   "cell_type": "code",
   "execution_count": null,
   "id": "02b4ef36",
   "metadata": {},
   "outputs": [],
   "source": [
    "# After importing the packages, you need to sort your CSV.\n",
    "# Go to SEMrush and export a CSV file containing keyword data.\n",
    "# Make sure to change the column names to match the data they represent.\n",
    "# For example:\n",
    "# - Position is shown as \".domain/*_date\" in the current position column.\n",
    "# - Type is shown as \".domain/*_date_type\" in the type column.\n",
    "# - Landing pages are shown as \".domain/*_date_landing\" in the landing pages column.\n",
    "# - Ranking difference is shown as \".domain/*_date_difference\" in the ranking difference column.\n",
    "\n",
    "# Now your dataset is ready."
   ]
  },
  {
   "cell_type": "code",
   "execution_count": null,
   "id": "7fcba825",
   "metadata": {},
   "outputs": [],
   "source": [
    "# Import the CSV file as a DataFrame (a tabular form understood by Python).\n",
    "df = pd.read_csv('/home/dhananjay/Downloads/rankingPandas.csv')\n",
    "\n",
    "# Here, 'df' is a variable that stores the CSV table as a DataFrame.\n",
    "# The function 'pd.read_csv' is used to read the CSV file. Pandas provides different functions for reading different types of data, such as 'read_json' for JSON files."
   ]
  },
  {
   "cell_type": "code",
   "execution_count": null,
   "id": "ea160f58",
   "metadata": {},
   "outputs": [],
   "source": [
    "# Check if the CSV file has been imported correctly by printing the table.\n",
    "df"
   ]
  },
  {
   "cell_type": "code",
   "execution_count": null,
   "id": "16fe693b",
   "metadata": {},
   "outputs": [],
   "source": [
    "# If the CSV file has been imported correctly, you should see the keywords and other data displayed in a tabular form."
   ]
  },
  {
   "cell_type": "code",
   "execution_count": null,
   "id": "24ab0d88",
   "metadata": {},
   "outputs": [],
   "source": [
    "# Now, let's connect with OpenAI.\n",
    "llm = OpenAI(api_token=\"YOUR OPENAI KEY\")\n",
    "pandas_ai = PandasAI(llm, verbose=True, enable_cache=False)\n",
    "\n",
    "# 'llm' is a variable that stores the OpenAI key, and the OpenAI package is loaded accordingly.\n",
    "# 'pandas_ai' is another variable that establishes a connection with the language model (e.g., GPT-3 or GPT-3.5).\n",
    "\n",
    "# Important note: 'enable_cache=False' means we will not be storing any cache in the AI language model for later usage.\n",
    "# This is required because the system might crash while running the OpenAI language model with caching enabled."
   ]
  },
  {
   "cell_type": "code",
   "execution_count": null,
   "id": "3cb45b22",
   "metadata": {},
   "outputs": [],
   "source": [
    "# Let the magic begin!"
   ]
  },
  {
   "cell_type": "code",
   "execution_count": null,
   "id": "ae8e3e71",
   "metadata": {},
   "outputs": [],
   "source": [
    "response = pandas_ai(df, \"What is the total search volume\")\n",
    "print(response)\n",
    "\n",
    "# We start with a basic question to check if the calculation is done correctly.\n",
    "# The 'response' variable stores the prompt given to the GenAI, which runs Pandas functions like 'sum' or others.\n",
    "# 'print' is used to display the output stored in the 'response' variable."
   ]
  },
  {
   "cell_type": "code",
   "execution_count": null,
   "id": "473959ca",
   "metadata": {},
   "outputs": [],
   "source": [
    "# Now, let's move on to the SEO analysis part.\n",
    "\n",
    "response = pandas_ai(df, \"Which are the keywords with negative ranking difference\")\n",
    "print(response)"
   ]
  },
  {
   "cell_type": "code",
   "execution_count": null,
   "id": "6e86c2fa",
   "metadata": {},
   "outputs": [],
   "source": [
    "# Note: Some queries may require a paid billing plan or increased rate limits in OpenAI.\n",
    "# If you don't have one, you can perform those tasks manually using Excel or Google Sheets."
   ]
  },
  {
   "cell_type": "code",
   "execution_count": null,
   "id": "55318251",
   "metadata": {},
   "outputs": [],
   "source": [
    "response = pandas_ai(df, \"Which are the keywords that have ranking differnce in negative and having ranking in the range of 2-10\")\n",
    "print(response)\n",
    "\n",
    "# These are the keywords for which you need to update the content to regain the position.\n",
    "# Additionally, perform fresh social bookmarking and publish 1-2 free guest posts."
   ]
  },
  {
   "cell_type": "code",
   "execution_count": null,
   "id": "73f44f34",
   "metadata": {},
   "outputs": [],
   "source": [
    "response = pandas_ai(df, \"Which are the keywords that have ranking differnce in negative ranging -3 to -10 and having ranking in the range of 11-20\")\n",
    "print(response)\n",
    "\n",
    "# These are the keywords for which you need to make significant content updates, fresh social bookmarking, publish 1-2 free guest posts,\n",
    "# and create 1-2 high Domain Authority (DA) and Page Authority (PA) articles mentioning the keywords as anchors."
   ]
  },
  {
   "cell_type": "code",
   "execution_count": null,
   "id": "06a0363d",
   "metadata": {},
   "outputs": [],
   "source": [
    "response = pandas_ai(df, \"Suggest lexical keywords based on the keywords having ranking more than 21\")\n",
    "print(response)\n",
    "\n",
    "# These are the keywords for which you need to check if they are present in your articles and interlink them with the original keywords\n",
    "# that have a ranking higher than 21. This will help you gain an advantage before implementing the previously mentioned strategies."
   ]
  },
  {
   "cell_type": "code",
   "execution_count": null,
   "id": "e12d1b05",
   "metadata": {},
   "outputs": [],
   "source": [
    "response = pandas_ai(df, \"Suggest lexical keywords based on the keywords having ranking less than 20\")\n",
    "print(response)\n",
    "\n",
    "# These are the keywords for which you need to create landing pages if they don't exist. If they do exist, find the keywords as anchors\n",
    "# for interlinking and perform fresh social bookmarking of the lexical keywords with the anchors in a single article (free or paid)."
   ]
  },
  {
   "cell_type": "code",
   "execution_count": null,
   "id": "1c783ff7",
   "metadata": {},
   "outputs": [],
   "source": [
    "# This concludes the ranking analysis and content update tasks using the GenAI model.\n",
    "# You can further explore by asking more questions and devising your own strategies.\n",
    "# Don't forget to print the 'response' variable to see the output.\n",
    "\n",
    "# Thank you! If you liked this code, please leave a comment on the LinkedIn post or feel free to DM me for any related issues."
   ]
  }
 ],
 "metadata": {
  "kernelspec": {
   "display_name": "Python 3 (ipykernel)",
   "language": "python",
   "name": "python3"
  },
  "language_info": {
   "codemirror_mode": {
    "name": "ipython",
    "version": 3
   },
   "file_extension": ".py",
   "mimetype": "text/x-python",
   "name": "python",
   "nbconvert_exporter": "python",
   "pygments_lexer": "ipython3",
   "version": "3.10.6"
  }
 },
 "nbformat": 4,
 "nbformat_minor": 5
}
